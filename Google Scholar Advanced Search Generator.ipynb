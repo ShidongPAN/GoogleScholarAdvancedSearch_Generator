{
 "cells": [
  {
   "cell_type": "markdown",
   "id": "a3c61db2",
   "metadata": {},
   "source": [
    "## Venue List"
   ]
  },
  {
   "cell_type": "code",
   "execution_count": 62,
   "id": "35507940",
   "metadata": {},
   "outputs": [],
   "source": [
    "SE_TargetVenueList = [\n",
    "    \"International Conference on Software Engineering\",\n",
    "    \"Foundations of Software Engineering\",\n",
    "    \"Automated Software Engineering\"\n",
    "]\n",
    "\n",
    "Security_TargetVenueList = [\n",
    "    \"USENIX Symposium\",\n",
    "    \"Network and Distributed Systems Security\",\n",
    "    \"Computer and Communications Security\",\n",
    "    \"Symposium on Security and Privacy\"\n",
    "]"
   ]
  },
  {
   "cell_type": "markdown",
   "id": "91f3e553",
   "metadata": {},
   "source": [
    "## Typing your searching term(s)"
   ]
  },
  {
   "cell_type": "code",
   "execution_count": 65,
   "id": "30e8c3a2",
   "metadata": {},
   "outputs": [],
   "source": [
    "# ------ Type your searching terms ------\n",
    "\n",
    "# Case insensitive\n",
    "\n",
    "# The phrase must exactly appear in the title or content (sometime it can be matched with references)\n",
    "# Normally we use phrases about the fields/topics, e.g., program repair or code clone\n",
    "PrimaryPhrase = \"program repair\"\n",
    "\n",
    "# The phrase that very likely appears in the title or content\n",
    "# Normally we use phrases about the techniques/methods, e.g., GPT, deep learning\n",
    "AssistantPhrase = \"GPT\"\n",
    "\n",
    "TargetVenueList = SE_TargetVenueList\n",
    "\n",
    "# ---------------------------------------"
   ]
  },
  {
   "cell_type": "markdown",
   "id": "a858590f",
   "metadata": {},
   "source": [
    "## Generating the searching term"
   ]
  },
  {
   "cell_type": "code",
   "execution_count": 66,
   "id": "3f0f380c",
   "metadata": {},
   "outputs": [],
   "source": [
    "# The exact phrase for searching\n",
    "PrimaryPhrase = \"\\\"\"+PrimaryPhrase+\"\\\" \"\n",
    "\n",
    "# The normal phrase for searching\n",
    "AssistantPhrase = AssistantPhrase + \" \"\n",
    "\n",
    "\n",
    "if ExactMatching_Flag:\n",
    "    SearchTerm = AssistantPhrase + Exact_Phrase\n",
    "    for venue in TargetVenueList:\n",
    "        SearchTerm = SearchTerm + \"source:\" + \"\\\"\"+ venue +\"\\\" \" + \"OR \"\n",
    "    SearchTerm = SearchTerm[:-3]"
   ]
  },
  {
   "cell_type": "code",
   "execution_count": 67,
   "id": "b6f8a46d",
   "metadata": {},
   "outputs": [
    {
     "name": "stdout",
     "output_type": "stream",
     "text": [
      "GPT \"program repair\" source:\"International Conference on Software Engineering\" OR source:\"Foundations of Software Engineering\" OR source:\"Automated Software Engineering\" \n"
     ]
    }
   ],
   "source": [
    "print(SearchTerm)"
   ]
  },
  {
   "cell_type": "code",
   "execution_count": null,
   "id": "ce44d0da",
   "metadata": {},
   "outputs": [],
   "source": []
  }
 ],
 "metadata": {
  "kernelspec": {
   "display_name": "Python 3 (ipykernel)",
   "language": "python",
   "name": "python3"
  },
  "language_info": {
   "codemirror_mode": {
    "name": "ipython",
    "version": 3
   },
   "file_extension": ".py",
   "mimetype": "text/x-python",
   "name": "python",
   "nbconvert_exporter": "python",
   "pygments_lexer": "ipython3",
   "version": "3.9.7"
  }
 },
 "nbformat": 4,
 "nbformat_minor": 5
}
